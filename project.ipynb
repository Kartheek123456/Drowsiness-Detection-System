{
 "cells": [
  {
   "cell_type": "code",
   "execution_count": 1,
   "id": "e34d0e4d",
   "metadata": {},
   "outputs": [],
   "source": [
    "# Import necessary libraries\n",
    "from tensorflow import keras\n",
    "import tensorflow as tf\n",
    "from keras.layers import Dense,Dropout,Activation,Add,MaxPooling2D,Conv2D,Flatten\n",
    "from keras.models import Sequential \n",
    "from tensorflow.keras.preprocessing.image import ImageDataGenerator  # Helps with real-time data augmentation and image loading.\n",
    "import numpy as np\n",
    "import matplotlib.pyplot as plt\n",
    "from keras import layers\n",
    "import seaborn as sns\n",
    "import os\n",
    "from PIL import Image"
   ]
  },
  {
   "cell_type": "code",
   "execution_count": 2,
   "id": "11d4f769",
   "metadata": {},
   "outputs": [],
   "source": [
    "# Set the directory paths for training and validation datasets\n",
    "train_dir = 'dataset/train'\n",
    "val_dir = 'dataset/test'"
   ]
  },
  {
   "cell_type": "code",
   "execution_count": 3,
   "id": "7dcef205",
   "metadata": {},
   "outputs": [
    {
     "name": "stdout",
     "output_type": "stream",
     "text": [
      "Found 1234 images belonging to 2 classes.\n",
      "Found 218 images belonging to 2 classes.\n"
     ]
    }
   ],
   "source": [
    "# For training data: rescale pixel values, and apply augmentation(to prevent overfitting)\n",
    "train_datagen = ImageDataGenerator(\n",
    "        rescale=1./255,\n",
    "        shear_range=0.2,\n",
    "        zoom_range=0.2,\n",
    "        horizontal_flip=True)\n",
    "# For validation: only rescaling, no augmentation(to measure model performance)\n",
    "test_datagen = ImageDataGenerator(rescale=1./255)\n",
    "# Create batches of train,val data from the directory structure\n",
    "train_generator = train_datagen.flow_from_directory(\n",
    "        train_dir,\n",
    "        target_size=(48, 48),\n",
    "        batch_size=64,\n",
    "        color_mode=\"grayscale\",\n",
    "        class_mode='categorical')\n",
    "validation_generator = test_datagen.flow_from_directory(\n",
    "        val_dir,\n",
    "        target_size=(48, 48),\n",
    "        batch_size=64,\n",
    "        color_mode=\"grayscale\",\n",
    "        class_mode='categorical')"
   ]
  },
  {
   "cell_type": "code",
   "execution_count": 4,
   "id": "4bbf6c44",
   "metadata": {},
   "outputs": [
    {
     "name": "stdout",
     "output_type": "stream",
     "text": [
      "1234 218\n"
     ]
    }
   ],
   "source": [
    "num_train = len(train_generator.classes) \n",
    "batch_size = 64\n",
    "num_val = len(validation_generator.classes)\n",
    "print(num_train, num_val)"
   ]
  },
  {
   "cell_type": "code",
   "execution_count": 5,
   "id": "ad21eb8c",
   "metadata": {},
   "outputs": [],
   "source": [
    "# CNN model using Sequential API\n",
    "model = Sequential()\n",
    "\n",
    "#1st Convolutional layer with 32 filters\n",
    "model.add(Conv2D(32, kernel_size=(3, 3), activation='relu', input_shape=(48,48,1)))\n",
    "model.add(MaxPooling2D(pool_size=(2, 2)))\n",
    "\n",
    "#2nd Convolutional layer with 64 filters\n",
    "model.add(Conv2D(64, kernel_size=(3, 3), activation='relu'))\n",
    "model.add(MaxPooling2D(pool_size=(2, 2)))\n",
    "\n",
    "#3rd Convolutional layer with 128 filters\n",
    "model.add(Conv2D(128, kernel_size=(3, 3), activation='relu'))\n",
    "model.add(MaxPooling2D(pool_size=(2, 2)))\n",
    "\n",
    "model.add(Dropout(0.25))\n",
    "\n",
    "## Flatten the 3D feature maps to 1D vector before feeding into dense layers\n",
    "model.add(Flatten())\n",
    "\n",
    "# Fully connected layers\n",
    "model.add(Dense(1024, activation='relu'))\n",
    "model.add(Dropout(0.5))\n",
    "\n",
    "# Output layer with 2 classes (open and closed eyes)\n",
    "model.add(Dense(2, activation='softmax'))"
   ]
  },
  {
   "cell_type": "code",
   "execution_count": 6,
   "id": "9270411f",
   "metadata": {},
   "outputs": [
    {
     "name": "stdout",
     "output_type": "stream",
     "text": [
      "Epoch 1/50\n",
      "19/19 [==============================] - 22s 1s/step - loss: 0.6407 - accuracy: 0.6128 - val_loss: 0.4059 - val_accuracy: 0.8490\n",
      "Epoch 2/50\n",
      "19/19 [==============================] - 5s 287ms/step - loss: 0.3100 - accuracy: 0.8803 - val_loss: 0.2502 - val_accuracy: 0.9010\n",
      "Epoch 3/50\n",
      "19/19 [==============================] - 5s 277ms/step - loss: 0.2073 - accuracy: 0.9291 - val_loss: 0.1384 - val_accuracy: 0.9531\n",
      "Epoch 4/50\n",
      "19/19 [==============================] - 6s 299ms/step - loss: 0.1482 - accuracy: 0.9496 - val_loss: 0.1197 - val_accuracy: 0.9479\n",
      "Epoch 5/50\n",
      "19/19 [==============================] - 5s 276ms/step - loss: 0.1166 - accuracy: 0.9530 - val_loss: 0.1026 - val_accuracy: 0.9531\n",
      "Epoch 6/50\n",
      "19/19 [==============================] - 5s 277ms/step - loss: 0.0967 - accuracy: 0.9658 - val_loss: 0.1668 - val_accuracy: 0.9323\n",
      "Epoch 7/50\n",
      "19/19 [==============================] - 5s 288ms/step - loss: 0.0887 - accuracy: 0.9692 - val_loss: 0.0847 - val_accuracy: 0.9740\n",
      "Epoch 8/50\n",
      "19/19 [==============================] - 6s 312ms/step - loss: 0.0661 - accuracy: 0.9744 - val_loss: 0.0626 - val_accuracy: 0.9635\n",
      "Epoch 9/50\n",
      "19/19 [==============================] - 6s 290ms/step - loss: 0.0558 - accuracy: 0.9795 - val_loss: 0.0690 - val_accuracy: 0.9688\n",
      "Epoch 10/50\n",
      "19/19 [==============================] - 5s 281ms/step - loss: 0.0460 - accuracy: 0.9855 - val_loss: 0.0556 - val_accuracy: 0.9740\n",
      "Epoch 11/50\n",
      "19/19 [==============================] - 5s 280ms/step - loss: 0.0496 - accuracy: 0.9838 - val_loss: 0.0717 - val_accuracy: 0.9688\n",
      "Epoch 12/50\n",
      "19/19 [==============================] - 5s 281ms/step - loss: 0.0480 - accuracy: 0.9829 - val_loss: 0.0676 - val_accuracy: 0.9688\n",
      "Epoch 13/50\n",
      "19/19 [==============================] - 5s 279ms/step - loss: 0.0391 - accuracy: 0.9872 - val_loss: 0.0676 - val_accuracy: 0.9740\n",
      "Epoch 14/50\n",
      "19/19 [==============================] - 5s 285ms/step - loss: 0.0382 - accuracy: 0.9846 - val_loss: 0.0314 - val_accuracy: 0.9844\n",
      "Epoch 15/50\n",
      "19/19 [==============================] - 6s 296ms/step - loss: 0.0418 - accuracy: 0.9846 - val_loss: 0.0535 - val_accuracy: 0.9844\n",
      "Epoch 16/50\n",
      "19/19 [==============================] - 5s 273ms/step - loss: 0.0272 - accuracy: 0.9897 - val_loss: 0.0405 - val_accuracy: 0.9792\n",
      "Epoch 17/50\n",
      "19/19 [==============================] - 5s 280ms/step - loss: 0.0281 - accuracy: 0.9897 - val_loss: 0.0572 - val_accuracy: 0.9792\n",
      "Epoch 18/50\n",
      "19/19 [==============================] - 5s 276ms/step - loss: 0.0224 - accuracy: 0.9932 - val_loss: 0.0453 - val_accuracy: 0.9844\n",
      "Epoch 19/50\n",
      "19/19 [==============================] - 5s 278ms/step - loss: 0.0276 - accuracy: 0.9880 - val_loss: 0.0358 - val_accuracy: 0.9896\n",
      "Epoch 20/50\n",
      "19/19 [==============================] - 5s 281ms/step - loss: 0.0305 - accuracy: 0.9897 - val_loss: 0.0292 - val_accuracy: 0.9844\n",
      "Epoch 21/50\n",
      "19/19 [==============================] - 5s 275ms/step - loss: 0.0315 - accuracy: 0.9906 - val_loss: 0.0283 - val_accuracy: 0.9844\n",
      "Epoch 22/50\n",
      "19/19 [==============================] - 5s 273ms/step - loss: 0.0230 - accuracy: 0.9906 - val_loss: 0.0354 - val_accuracy: 0.9896\n",
      "Epoch 23/50\n",
      "19/19 [==============================] - 6s 295ms/step - loss: 0.0211 - accuracy: 0.9926 - val_loss: 0.0344 - val_accuracy: 0.9792\n",
      "Epoch 24/50\n",
      "19/19 [==============================] - 5s 280ms/step - loss: 0.0131 - accuracy: 0.9957 - val_loss: 0.0422 - val_accuracy: 0.9740\n",
      "Epoch 25/50\n",
      "19/19 [==============================] - 5s 280ms/step - loss: 0.0167 - accuracy: 0.9940 - val_loss: 0.0324 - val_accuracy: 0.9844\n",
      "Epoch 26/50\n",
      "19/19 [==============================] - 5s 286ms/step - loss: 0.0309 - accuracy: 0.9915 - val_loss: 0.0389 - val_accuracy: 0.9792\n",
      "Epoch 27/50\n",
      "19/19 [==============================] - 5s 277ms/step - loss: 0.0328 - accuracy: 0.9906 - val_loss: 0.0307 - val_accuracy: 0.9896\n",
      "Epoch 28/50\n",
      "19/19 [==============================] - 5s 278ms/step - loss: 0.0283 - accuracy: 0.9897 - val_loss: 0.0336 - val_accuracy: 0.9844\n",
      "Epoch 29/50\n",
      "19/19 [==============================] - 5s 286ms/step - loss: 0.0512 - accuracy: 0.9838 - val_loss: 0.0684 - val_accuracy: 0.9740\n",
      "Epoch 30/50\n",
      "19/19 [==============================] - 5s 279ms/step - loss: 0.0255 - accuracy: 0.9889 - val_loss: 0.0609 - val_accuracy: 0.9740\n",
      "Epoch 31/50\n",
      "19/19 [==============================] - 6s 333ms/step - loss: 0.0152 - accuracy: 0.9966 - val_loss: 0.0357 - val_accuracy: 0.9896\n",
      "Epoch 32/50\n",
      "19/19 [==============================] - 6s 305ms/step - loss: 0.0221 - accuracy: 0.9940 - val_loss: 0.0229 - val_accuracy: 0.9896\n",
      "Epoch 33/50\n",
      "19/19 [==============================] - 6s 301ms/step - loss: 0.0089 - accuracy: 0.9974 - val_loss: 0.0273 - val_accuracy: 0.9896\n",
      "Epoch 34/50\n",
      "19/19 [==============================] - 5s 283ms/step - loss: 0.0097 - accuracy: 0.9966 - val_loss: 0.0102 - val_accuracy: 0.9948\n",
      "Epoch 35/50\n",
      "19/19 [==============================] - 5s 287ms/step - loss: 0.0089 - accuracy: 0.9974 - val_loss: 0.0125 - val_accuracy: 0.9948\n",
      "Epoch 36/50\n",
      "19/19 [==============================] - 6s 304ms/step - loss: 0.0103 - accuracy: 0.9940 - val_loss: 0.0082 - val_accuracy: 1.0000\n",
      "Epoch 37/50\n",
      "19/19 [==============================] - 5s 281ms/step - loss: 0.0045 - accuracy: 0.9974 - val_loss: 0.0057 - val_accuracy: 0.9948\n",
      "Epoch 38/50\n",
      "19/19 [==============================] - 5s 287ms/step - loss: 0.0097 - accuracy: 0.9957 - val_loss: 0.0775 - val_accuracy: 0.9844\n",
      "Epoch 39/50\n",
      "19/19 [==============================] - 5s 278ms/step - loss: 0.0154 - accuracy: 0.9940 - val_loss: 0.0144 - val_accuracy: 0.9896\n",
      "Epoch 40/50\n",
      "19/19 [==============================] - 6s 293ms/step - loss: 0.0107 - accuracy: 0.9966 - val_loss: 0.0304 - val_accuracy: 0.9896\n",
      "Epoch 41/50\n",
      "19/19 [==============================] - 5s 284ms/step - loss: 0.0073 - accuracy: 0.9966 - val_loss: 0.0138 - val_accuracy: 0.9948\n",
      "Epoch 42/50\n",
      "19/19 [==============================] - 6s 293ms/step - loss: 0.0134 - accuracy: 0.9940 - val_loss: 0.0143 - val_accuracy: 0.9948\n",
      "Epoch 43/50\n",
      "19/19 [==============================] - 5s 281ms/step - loss: 0.0201 - accuracy: 0.9932 - val_loss: 0.0459 - val_accuracy: 0.9896\n",
      "Epoch 44/50\n",
      "19/19 [==============================] - 6s 284ms/step - loss: 0.0286 - accuracy: 0.9915 - val_loss: 0.0347 - val_accuracy: 0.9844\n",
      "Epoch 45/50\n",
      "19/19 [==============================] - 5s 279ms/step - loss: 0.0232 - accuracy: 0.9897 - val_loss: 0.0215 - val_accuracy: 0.9948\n",
      "Epoch 46/50\n",
      "19/19 [==============================] - 5s 280ms/step - loss: 0.0075 - accuracy: 0.9983 - val_loss: 0.0108 - val_accuracy: 0.9948\n",
      "Epoch 47/50\n",
      "19/19 [==============================] - 6s 296ms/step - loss: 0.0107 - accuracy: 0.9932 - val_loss: 0.0027 - val_accuracy: 1.0000\n",
      "Epoch 48/50\n",
      "19/19 [==============================] - 5s 281ms/step - loss: 0.0090 - accuracy: 0.9974 - val_loss: 0.0058 - val_accuracy: 1.0000\n",
      "Epoch 49/50\n",
      "19/19 [==============================] - 5s 280ms/step - loss: 0.0101 - accuracy: 0.9974 - val_loss: 0.0036 - val_accuracy: 1.0000\n",
      "Epoch 50/50\n",
      "19/19 [==============================] - 5s 286ms/step - loss: 0.0091 - accuracy: 0.9974 - val_loss: 0.0057 - val_accuracy: 0.9948\n"
     ]
    }
   ],
   "source": [
    "#Model compilation and training\n",
    "model.compile(optimizer='adam',loss='categorical_crossentropy',metrics=['accuracy'])\n",
    "history = model.fit(\n",
    "            train_generator,\n",
    "            steps_per_epoch=num_train // batch_size,\n",
    "            epochs=50,\n",
    "            validation_data=validation_generator,\n",
    "            validation_steps=num_val // batch_size)"
   ]
  },
  {
   "cell_type": "code",
   "execution_count": 7,
   "id": "d6f4a887",
   "metadata": {},
   "outputs": [
    {
     "data": {
      "image/png": "[encoded data removed]",
      "text/plain": [
       "<Figure size 640x480 with 1 Axes>"
      ]
     },
     "metadata": {},
     "output_type": "display_data"
    },
    {
     "data": {
      "image/png": "[encoded data removed]",
      "text/plain": [
       "<Figure size 640x480 with 1 Axes>"
      ]
     },
     "metadata": {},
     "output_type": "display_data"
    }
   ],
   "source": [
    "acc = history.history['accuracy']\n",
    "val_acc = history.history['val_accuracy']\n",
    "loss = history.history['loss']\n",
    "val_loss = history.history['val_loss']\n",
    "epochs = range(1, 51)\n",
    "\n",
    "#accuracy plot\n",
    "plt.plot(epochs, acc, color='green', label='Training Accuracy')\n",
    "plt.plot(epochs, val_acc, color='blue', label='Validation Accuracy')\n",
    "plt.title('Training and Validation Accuracy')\n",
    "plt.ylabel('Accuracy')\n",
    "plt.xlabel('Epoch')\n",
    "plt.legend()\n",
    "\n",
    "plt.figure()\n",
    "#loss plot\n",
    "plt.plot(epochs, loss, color='green', label='Training Loss')\n",
    "plt.xlabel('Epoch')\n",
    "plt.ylabel('Loss')\n",
    "plt.legend()\n",
    "\n",
    "plt.show()"
   ]
  },
  {
   "cell_type": "code",
   "execution_count": 8,
   "id": "2033bcdd",
   "metadata": {},
   "outputs": [
    {
     "name": "stdout",
     "output_type": "stream",
     "text": [
      "Found 4232 images belonging to 2 classes.\n"
     ]
    }
   ],
   "source": [
    "tes_d ='TestSet'\n",
    "test_data = ImageDataGenerator(rescale=1./255)\n",
    "\n",
    "test_gen = test_data.flow_from_directory(\n",
    "        tes_d,\n",
    "        target_size=(48, 48),\n",
    "        batch_size=64,\n",
    "        color_mode=\"grayscale\",\n",
    "        class_mode='categorical')"
   ]
  },
  {
   "cell_type": "code",
   "execution_count": 9,
   "id": "259e74aa",
   "metadata": {},
   "outputs": [
    {
     "name": "stdout",
     "output_type": "stream",
     "text": [
      "67/67 [==============================] - 61s 929ms/step - loss: 7.1834 - accuracy: 0.6009\n"
     ]
    },
    {
     "data": {
      "text/plain": [
       "[7.183437347412109, 0.6008979082107544]"
      ]
     },
     "execution_count": 9,
     "metadata": {},
     "output_type": "execute_result"
    }
   ],
   "source": [
    "model.evaluate(test_gen)"
   ]
  },
  {
   "cell_type": "code",
   "execution_count": 10,
   "id": "89739783",
   "metadata": {},
   "outputs": [],
   "source": [
    "model.save('my_model.h5', overwrite=True)"
   ]
  }
 ],
 "metadata": {
  "kernelspec": {
   "display_name": "tf-env",
   "language": "python",
   "name": "python3"
  },
  "language_info": {
   "codemirror_mode": {
    "name": "ipython",
    "version": 3
   },
   "file_extension": ".py",
   "mimetype": "text/x-python",
   "name": "python",
   "nbconvert_exporter": "python",
   "pygments_lexer": "ipython3",
   "version": "3.11.9"
  }
 },
 "nbformat": 4,
 "nbformat_minor": 5
}
